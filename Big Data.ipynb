{
 "cells": [
  {
   "cell_type": "code",
   "execution_count": 1,
   "metadata": {},
   "outputs": [],
   "source": [
    "import pandas as pd\n",
    "import numpy as np\n",
    "\n",
    "import warnings \n",
    "warnings.simplefilter('ignore')\n",
    "\n",
    "import matplotlib.pyplot as plt\n",
    "import seaborn as sns"
   ]
  },
  {
   "cell_type": "code",
   "execution_count": 2,
   "metadata": {},
   "outputs": [],
   "source": [
    "from pyspark.ml.classification import GBTClassifier\n",
    "import findspark\n",
    "findspark.init()\n",
    "from pyspark.ml import Pipeline\n",
    "from pyspark.ml.feature import StringIndexer, VectorIndexer\n",
    "from pyspark.ml.evaluation import MulticlassClassificationEvaluator\n",
    "from pyspark.sql import SparkSession\n",
    "from pyspark.ml.linalg import Vectors\n",
    "from pyspark.sql import SparkSession\n",
    "from pyspark.sql import Row\n",
    "import collections\n",
    "from pyspark import SparkConf,SparkContext\n",
    "from pyspark.ml.evaluation import MulticlassClassificationEvaluator"
   ]
  },
  {
   "cell_type": "code",
   "execution_count": 3,
   "metadata": {},
   "outputs": [
    {
     "data": {
      "text/plain": [
       "(900, 8)"
      ]
     },
     "execution_count": 3,
     "metadata": {},
     "output_type": "execute_result"
    }
   ],
   "source": [
    "df = pd.read_csv('churn.csv')\n",
    "df.shape"
   ]
  },
  {
   "cell_type": "code",
   "execution_count": 4,
   "metadata": {},
   "outputs": [
    {
     "data": {
      "text/html": [
       "<div>\n",
       "<style scoped>\n",
       "    .dataframe tbody tr th:only-of-type {\n",
       "        vertical-align: middle;\n",
       "    }\n",
       "\n",
       "    .dataframe tbody tr th {\n",
       "        vertical-align: top;\n",
       "    }\n",
       "\n",
       "    .dataframe thead th {\n",
       "        text-align: right;\n",
       "    }\n",
       "</style>\n",
       "<table border=\"1\" class=\"dataframe\">\n",
       "  <thead>\n",
       "    <tr style=\"text-align: right;\">\n",
       "      <th></th>\n",
       "      <th>Names</th>\n",
       "      <th>Age</th>\n",
       "      <th>Total_Purchase</th>\n",
       "      <th>Account_Manager</th>\n",
       "      <th>Years</th>\n",
       "      <th>Num_Sites</th>\n",
       "      <th>Churn</th>\n",
       "    </tr>\n",
       "  </thead>\n",
       "  <tbody>\n",
       "    <tr>\n",
       "      <th>0</th>\n",
       "      <td>Cameron Williams</td>\n",
       "      <td>42.0</td>\n",
       "      <td>11066.80</td>\n",
       "      <td>0</td>\n",
       "      <td>7.22</td>\n",
       "      <td>8.0</td>\n",
       "      <td>1</td>\n",
       "    </tr>\n",
       "    <tr>\n",
       "      <th>1</th>\n",
       "      <td>Kevin Mueller</td>\n",
       "      <td>41.0</td>\n",
       "      <td>11916.22</td>\n",
       "      <td>0</td>\n",
       "      <td>6.50</td>\n",
       "      <td>11.0</td>\n",
       "      <td>1</td>\n",
       "    </tr>\n",
       "    <tr>\n",
       "      <th>2</th>\n",
       "      <td>Eric Lozano</td>\n",
       "      <td>38.0</td>\n",
       "      <td>12884.75</td>\n",
       "      <td>0</td>\n",
       "      <td>6.67</td>\n",
       "      <td>12.0</td>\n",
       "      <td>1</td>\n",
       "    </tr>\n",
       "    <tr>\n",
       "      <th>3</th>\n",
       "      <td>Phillip White</td>\n",
       "      <td>42.0</td>\n",
       "      <td>8010.76</td>\n",
       "      <td>0</td>\n",
       "      <td>6.71</td>\n",
       "      <td>10.0</td>\n",
       "      <td>1</td>\n",
       "    </tr>\n",
       "    <tr>\n",
       "      <th>4</th>\n",
       "      <td>Cynthia Norton</td>\n",
       "      <td>37.0</td>\n",
       "      <td>9191.58</td>\n",
       "      <td>0</td>\n",
       "      <td>5.56</td>\n",
       "      <td>9.0</td>\n",
       "      <td>1</td>\n",
       "    </tr>\n",
       "  </tbody>\n",
       "</table>\n",
       "</div>"
      ],
      "text/plain": [
       "              Names   Age  Total_Purchase  Account_Manager  Years  Num_Sites  \\\n",
       "0  Cameron Williams  42.0        11066.80                0   7.22        8.0   \n",
       "1     Kevin Mueller  41.0        11916.22                0   6.50       11.0   \n",
       "2       Eric Lozano  38.0        12884.75                0   6.67       12.0   \n",
       "3     Phillip White  42.0         8010.76                0   6.71       10.0   \n",
       "4    Cynthia Norton  37.0         9191.58                0   5.56        9.0   \n",
       "\n",
       "   Churn  \n",
       "0      1  \n",
       "1      1  \n",
       "2      1  \n",
       "3      1  \n",
       "4      1  "
      ]
     },
     "execution_count": 4,
     "metadata": {},
     "output_type": "execute_result"
    }
   ],
   "source": [
    "del df['Unnamed: 0']\n",
    "df.head()"
   ]
  },
  {
   "cell_type": "code",
   "execution_count": 5,
   "metadata": {},
   "outputs": [
    {
     "name": "stdout",
     "output_type": "stream",
     "text": [
      "<class 'pandas.core.frame.DataFrame'>\n",
      "RangeIndex: 900 entries, 0 to 899\n",
      "Data columns (total 7 columns):\n",
      " #   Column           Non-Null Count  Dtype  \n",
      "---  ------           --------------  -----  \n",
      " 0   Names            900 non-null    object \n",
      " 1   Age              900 non-null    float64\n",
      " 2   Total_Purchase   900 non-null    float64\n",
      " 3   Account_Manager  900 non-null    int64  \n",
      " 4   Years            900 non-null    float64\n",
      " 5   Num_Sites        900 non-null    float64\n",
      " 6   Churn            900 non-null    int64  \n",
      "dtypes: float64(4), int64(2), object(1)\n",
      "memory usage: 49.3+ KB\n"
     ]
    }
   ],
   "source": [
    "df.info()"
   ]
  },
  {
   "cell_type": "code",
   "execution_count": 6,
   "metadata": {},
   "outputs": [
    {
     "data": {
      "text/plain": [
       "0    750\n",
       "1    150\n",
       "Name: Churn, dtype: int64"
      ]
     },
     "execution_count": 6,
     "metadata": {},
     "output_type": "execute_result"
    }
   ],
   "source": [
    "df[\"Churn\"].value_counts()"
   ]
  },
  {
   "cell_type": "code",
   "execution_count": 7,
   "metadata": {},
   "outputs": [
    {
     "data": {
      "text/plain": [
       "0    467\n",
       "1    433\n",
       "Name: Account_Manager, dtype: int64"
      ]
     },
     "execution_count": 7,
     "metadata": {},
     "output_type": "execute_result"
    }
   ],
   "source": [
    "df[\"Account_Manager\"].value_counts()"
   ]
  },
  {
   "cell_type": "code",
   "execution_count": 8,
   "metadata": {},
   "outputs": [],
   "source": [
    "del df[\"Names\"]"
   ]
  },
  {
   "cell_type": "code",
   "execution_count": 9,
   "metadata": {},
   "outputs": [
    {
     "name": "stdout",
     "output_type": "stream",
     "text": [
      "22/08/26 22:27:58 WARN Utils: Your hostname, Gonen.local resolves to a loopback address: 127.0.0.1; using 192.168.10.94 instead (on interface en0)\n",
      "22/08/26 22:27:58 WARN Utils: Set SPARK_LOCAL_IP if you need to bind to another address\n"
     ]
    },
    {
     "name": "stderr",
     "output_type": "stream",
     "text": [
      "Setting default log level to \"WARN\".\n",
      "To adjust logging level use sc.setLogLevel(newLevel). For SparkR, use setLogLevel(newLevel).\n"
     ]
    },
    {
     "name": "stdout",
     "output_type": "stream",
     "text": [
      "22/08/26 22:27:59 WARN NativeCodeLoader: Unable to load native-hadoop library for your platform... using builtin-java classes where applicable\n"
     ]
    }
   ],
   "source": [
    "from __future__ import print_function\n",
    "\n",
    "df=SparkSession.builder.getOrCreate()"
   ]
  },
  {
   "cell_type": "code",
   "execution_count": 10,
   "metadata": {},
   "outputs": [
    {
     "name": "stderr",
     "output_type": "stream",
     "text": [
      "                                                                                \r"
     ]
    }
   ],
   "source": [
    "inputlines=df = df.read.options(header = True, inferSchema = True).csv(\"churn.csv\")"
   ]
  },
  {
   "cell_type": "code",
   "execution_count": 11,
   "metadata": {},
   "outputs": [],
   "source": [
    "df=inputlines.rdd.map(lambda x: x.split(\",\"))"
   ]
  },
  {
   "cell_type": "code",
   "execution_count": 12,
   "metadata": {},
   "outputs": [
    {
     "data": {
      "text/plain": [
       "DataFrame[_c0: int, Names: string, Age: double, Total_Purchase: double, Account_Manager: int, Years: double, Num_Sites: double, Churn: int]"
      ]
     },
     "execution_count": 12,
     "metadata": {},
     "output_type": "execute_result"
    }
   ],
   "source": [
    "df1 = inputlines\n",
    "df1"
   ]
  },
  {
   "cell_type": "code",
   "execution_count": 13,
   "metadata": {},
   "outputs": [
    {
     "data": {
      "text/plain": [
       "DataFrame[_c0: int, Names: string, Age: double, Total_Purchase: double, Account_Manager: int, Years: double, Num_Sites: double, Churn: int, features: vector]"
      ]
     },
     "execution_count": 13,
     "metadata": {},
     "output_type": "execute_result"
    }
   ],
   "source": [
    "from  pyspark.ml.feature import VectorAssembler\n",
    "\n",
    "vecAssembler = VectorAssembler(inputCols=['Age','Total_Purchase','Account_Manager','Years','Num_Sites'], outputCol=\"features\")\n",
    "df1= vecAssembler.transform(df1)\n",
    "df1"
   ]
  },
  {
   "cell_type": "code",
   "execution_count": 14,
   "metadata": {},
   "outputs": [
    {
     "data": {
      "text/plain": [
       "DataFrame[_c0: int, Names: string, Churn: int, features: vector]"
      ]
     },
     "execution_count": 14,
     "metadata": {},
     "output_type": "execute_result"
    }
   ],
   "source": [
    "df1 = df1.drop(\"index\", 'Age','Total_Purchase','Account_Manager','Years','Num_Sites')\n",
    "df1"
   ]
  },
  {
   "cell_type": "code",
   "execution_count": 15,
   "metadata": {},
   "outputs": [],
   "source": [
    "df1 = df1.drop(\"index\", 'Age','Total_Purchase','Account_Manager','Years','Num_Sites')\n",
    "df1 = df1.withColumnRenamed(\"Churn\", \"label\")\n"
   ]
  },
  {
   "cell_type": "code",
   "execution_count": 16,
   "metadata": {},
   "outputs": [],
   "source": [
    "trainTest=df1.randomSplit([0.5,0.5])\n",
    "train=trainTest[0]\n",
    "test=trainTest[1]"
   ]
  },
  {
   "cell_type": "code",
   "execution_count": 17,
   "metadata": {},
   "outputs": [],
   "source": [
    "from sklearn.metrics import accuracy_score,precision_score,recall_score,f1_score"
   ]
  },
  {
   "cell_type": "code",
   "execution_count": 18,
   "metadata": {},
   "outputs": [],
   "source": [
    "gbt=GBTClassifier(featuresCol='features',maxIter=10)"
   ]
  },
  {
   "cell_type": "code",
   "execution_count": 19,
   "metadata": {},
   "outputs": [
    {
     "name": "stdout",
     "output_type": "stream",
     "text": [
      "22/08/26 22:28:11 WARN CSVHeaderChecker: CSV header does not conform to the schema.\n",
      " Header: , Names, Age, Total_Purchase, Account_Manager, Years, Num_Sites, Churn\n",
      " Schema: _c0, Names, Age, Total_Purchase, Account_Manager, Years, Num_Sites, Churn\n",
      "Expected: _c0 but found: \n",
      "CSV file: file:///Users/enestunahan/Documents/Data%20Science/Projects/Big%20Data%20Machine%20Learning%20Classification/churn.csv\n"
     ]
    },
    {
     "name": "stderr",
     "output_type": "stream",
     "text": [
      "\r\n",
      "[Stage 2:>                                                          (0 + 1) / 1]\r\n",
      "\r\n",
      "                                                                                \r"
     ]
    },
    {
     "name": "stdout",
     "output_type": "stream",
     "text": [
      "22/08/26 22:28:12 WARN CSVHeaderChecker: CSV header does not conform to the schema.\n",
      " Header: , Names, Age, Total_Purchase, Account_Manager, Years, Num_Sites, Churn\n",
      " Schema: _c0, Names, Age, Total_Purchase, Account_Manager, Years, Num_Sites, Churn\n",
      "Expected: _c0 but found: \n",
      "CSV file: file:///Users/enestunahan/Documents/Data%20Science/Projects/Big%20Data%20Machine%20Learning%20Classification/churn.csv\n",
      "22/08/26 22:28:12 WARN CSVHeaderChecker: CSV header does not conform to the schema.\n",
      " Header: , Names, Age, Total_Purchase, Account_Manager, Years, Num_Sites, Churn\n",
      " Schema: _c0, Names, Age, Total_Purchase, Account_Manager, Years, Num_Sites, Churn\n",
      "Expected: _c0 but found: \n",
      "CSV file: file:///Users/enestunahan/Documents/Data%20Science/Projects/Big%20Data%20Machine%20Learning%20Classification/churn.csv\n",
      "22/08/26 22:28:13 WARN CSVHeaderChecker: CSV header does not conform to the schema.\n",
      " Header: , Names, Age, Total_Purchase, Account_Manager, Years, Num_Sites, Churn\n",
      " Schema: _c0, Names, Age, Total_Purchase, Account_Manager, Years, Num_Sites, Churn\n",
      "Expected: _c0 but found: \n",
      "CSV file: file:///Users/enestunahan/Documents/Data%20Science/Projects/Big%20Data%20Machine%20Learning%20Classification/churn.csv\n"
     ]
    }
   ],
   "source": [
    "gbt = gbt.fit(train)"
   ]
  },
  {
   "cell_type": "code",
   "execution_count": 20,
   "metadata": {},
   "outputs": [
    {
     "name": "stdout",
     "output_type": "stream",
     "text": [
      "22/08/26 22:28:18 WARN CSVHeaderChecker: CSV header does not conform to the schema.\n",
      " Header: , Names, Age, Total_Purchase, Account_Manager, Years, Num_Sites, Churn\n",
      " Schema: _c0, Names, Age, Total_Purchase, Account_Manager, Years, Num_Sites, Churn\n",
      "Expected: _c0 but found: \n",
      "CSV file: file:///Users/enestunahan/Documents/Data%20Science/Projects/Big%20Data%20Machine%20Learning%20Classification/churn.csv\n",
      "22/08/26 22:28:18 WARN InstanceBuilder$NativeBLAS: Failed to load implementation from:dev.ludovic.netlib.blas.JNIBLAS\n",
      "22/08/26 22:28:18 WARN InstanceBuilder$NativeBLAS: Failed to load implementation from:dev.ludovic.netlib.blas.ForeignLinkerBLAS\n",
      "+---+------------------+-----+--------------------+--------------------+--------------------+----------+\n",
      "|_c0|             Names|label|            features|       rawPrediction|         probability|prediction|\n",
      "+---+------------------+-----+--------------------+--------------------+--------------------+----------+\n",
      "|  0|  Cameron Williams|    1|[42.0,11066.8,0.0...|[1.20499068878511...|[0.91758527360761...|       0.0|\n",
      "|  2|       Eric Lozano|    1|[38.0,12884.75,0....|[-1.2438839963145...|[0.07672015044511...|       1.0|\n",
      "|  4|    Cynthia Norton|    1|[37.0,9191.58,0.0...|[1.34041119097590...|[0.93588548736381...|       0.0|\n",
      "|  6|       Eric Butler|    1|[44.0,11331.58,1....|[-0.5138381677978...|[0.26353484291378...|       1.0|\n",
      "|  8|       Ashlee Carr|    1|[43.0,14062.6,1.0...|[-0.5138381677978...|[0.26353484291378...|       1.0|\n",
      "| 13|      Nicole Olson|    1|[40.0,8283.32,1.0...|[-1.4483891961312...|[0.05231304861207...|       1.0|\n",
      "| 16|     Doris Wilkins|    1|[45.0,8213.41,1.0...|[-0.4813523549339...|[0.27633699383317...|       1.0|\n",
      "| 19|       Kathy Curry|    1|[46.0,8046.4,1.0,...|[1.29115135235920...|[0.92971389055983...|       0.0|\n",
      "| 21|       Kevin Ramos|    1|[56.0,12217.95,1....|[-0.3363348485583...|[0.33789930893917...|       1.0|\n",
      "| 23|       Paul Walker|    1|[41.0,10474.94,0....|[-1.2378255399574...|[0.07758285601559...|       1.0|\n",
      "| 25|  Steven Hernandez|    1|[54.0,8207.1,0.0,...|[-0.9962979019665...|[0.11998250959689...|       1.0|\n",
      "| 26|     Danielle Kirk|    1|[35.0,12403.81,0....|[1.26160458093110...|[0.92575293637146...|       0.0|\n",
      "| 29|Mrs. Sarah Morales|    1|[37.0,8284.89,1.0...|[-0.2634868500493...|[0.37122300059281...|       1.0|\n",
      "| 31|        Carla Ball|    1|[45.0,10793.11,1....|[1.30578109319147...|[0.93160200547771...|       0.0|\n",
      "| 34|    Tammy Shepherd|    1|[48.0,11740.0,1.0...|[0.13771316386362...|[0.56842457242625...|       0.0|\n",
      "| 36|       Heidi Munoz|    1|[38.0,11887.39,0....|[-1.0092738202780...|[0.11726925147057...|       1.0|\n",
      "| 38|       Erin Rivera|    1|[37.0,8198.06,1.0...|[-1.4483891961312...|[0.05231304861207...|       1.0|\n",
      "| 41|    Jason Jones MD|    1|[55.0,16838.94,1....|[-0.8337774350118...|[0.15875045048109...|       1.0|\n",
      "| 43|     George Archer|    1|[37.0,8736.06,1.0...|[-1.3748866647721...|[0.06009945294669...|       1.0|\n",
      "| 44|    Richard Fields|    1|[50.0,10850.78,1....|[0.78851151381885...|[0.82878249280982...|       0.0|\n",
      "+---+------------------+-----+--------------------+--------------------+--------------------+----------+\n",
      "only showing top 20 rows\n",
      "\n"
     ]
    }
   ],
   "source": [
    "predictions = gbt.transform(test)\n",
    "predictions.show()"
   ]
  },
  {
   "cell_type": "code",
   "execution_count": 21,
   "metadata": {},
   "outputs": [
    {
     "name": "stdout",
     "output_type": "stream",
     "text": [
      "22/08/26 22:28:19 WARN CSVHeaderChecker: CSV header does not conform to the schema.\n",
      " Header: , Names, Age, Total_Purchase, Account_Manager, Years, Num_Sites, Churn\n",
      " Schema: _c0, Names, Age, Total_Purchase, Account_Manager, Years, Num_Sites, Churn\n",
      "Expected: _c0 but found: \n",
      "CSV file: file:///Users/enestunahan/Documents/Data%20Science/Projects/Big%20Data%20Machine%20Learning%20Classification/churn.csv\n",
      "Accuracy: 0.8699551569506726\n"
     ]
    }
   ],
   "source": [
    "evaluator = MulticlassClassificationEvaluator(labelCol=\"label\", predictionCol=\"prediction\", metricName=\"accuracy\")\n",
    "accuracy = evaluator.evaluate(predictions)\n",
    "print(\"Accuracy:\", accuracy)"
   ]
  }
 ],
 "metadata": {
  "kernelspec": {
   "display_name": "Python 3 (ipykernel)",
   "language": "python",
   "name": "python3"
  },
  "language_info": {
   "codemirror_mode": {
    "name": "ipython",
    "version": 3
   },
   "file_extension": ".py",
   "mimetype": "text/x-python",
   "name": "python",
   "nbconvert_exporter": "python",
   "pygments_lexer": "ipython3",
   "version": "3.7.9"
  },
  "vscode": {
   "interpreter": {
    "hash": "cd938690570bcb73afd03eabe61bc9c1f9dd1ac1aab16d63f07f11496fa51824"
   }
  }
 },
 "nbformat": 4,
 "nbformat_minor": 2
}
